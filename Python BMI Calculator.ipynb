{
 "cells": [
  {
   "cell_type": "code",
   "execution_count": 1,
   "id": "92aab975-32df-4bde-a27b-9e3fd47e8a53",
   "metadata": {},
   "outputs": [
    {
     "name": "stdout",
     "output_type": "stream",
     "text": [
      "enter name: Jeff\n",
      "Enter Weight: 210\n",
      "Enter Height: 72\n"
     ]
    },
    {
     "name": "stdout",
     "output_type": "stream",
     "text": [
      "28.47800925925926\n",
      "overweight\n"
     ]
    }
   ],
   "source": [
    "name = input(\"enter name:\")\n",
    "\n",
    "weight = int(input(\"Enter Weight:\"))\n",
    "\n",
    "height = int(input(\"Enter Height:\"))\n",
    "\n",
    "BMI = (weight * 703) / (height * height)\n",
    "\n",
    "print(BMI)\n",
    "\n",
    "if BMI > 0:\n",
    "    if(BMI<18.5):\n",
    "        print(\"underweight\")\n",
    "    elif(BMI<=24.9):\n",
    "        print(\"normal\")\n",
    "    elif(BMI<29.9):\n",
    "        print(\"overweight\")\n",
    "    elif(BMI<34.9):\n",
    "        print(\"obese\")\n",
    "    elif(BMI<39.9):\n",
    "        print(\"severely obese\")\n",
    "        \n",
    "        \n",
    "else:\n",
    "    print(\"invalid input\")"
   ]
  },
  {
   "cell_type": "code",
   "execution_count": null,
   "id": "baaae10b-ccfd-4143-abdf-c4887be16937",
   "metadata": {},
   "outputs": [],
   "source": []
  },
  {
   "cell_type": "code",
   "execution_count": null,
   "id": "8ede14fd-cf92-4243-893b-97311f42b30f",
   "metadata": {},
   "outputs": [],
   "source": [
    "#BMI = (weight in pounds x 703) / (height in inches X height in inches)"
   ]
  },
  {
   "cell_type": "code",
   "execution_count": null,
   "id": "2900c3f0-5108-49fc-82f3-9e2da9ff05a4",
   "metadata": {},
   "outputs": [],
   "source": []
  }
 ],
 "metadata": {
  "kernelspec": {
   "display_name": "Python 3 (ipykernel)",
   "language": "python",
   "name": "python3"
  },
  "language_info": {
   "codemirror_mode": {
    "name": "ipython",
    "version": 3
   },
   "file_extension": ".py",
   "mimetype": "text/x-python",
   "name": "python",
   "nbconvert_exporter": "python",
   "pygments_lexer": "ipython3",
   "version": "3.12.4"
  }
 },
 "nbformat": 4,
 "nbformat_minor": 5
}
